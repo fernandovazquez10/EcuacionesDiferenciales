{
 "cells": [
  {
   "cell_type": "code",
   "execution_count": 1,
   "id": "dd880c99-9e84-4272-ba5a-8a59b4c52646",
   "metadata": {},
   "outputs": [],
   "source": [
    "# Librerias necesarias para funcionar\n",
    "import numpy as np\n",
    "import sympy as sp \n",
    "import matplotlib.pyplot as plt\n",
    "from scipy import integrate"
   ]
  },
  {
   "cell_type": "code",
   "execution_count": 2,
   "id": "49f71efb-2066-425e-8717-06a2db45cbe3",
   "metadata": {},
   "outputs": [
    {
     "data": {
      "text/latex": [
       "$\\displaystyle \\frac{d}{d x} y{\\left(x \\right)} = 2 x$"
      ],
      "text/plain": [
       "Eq(Derivative(y(x), x), 2*x)"
      ]
     },
     "execution_count": 2,
     "metadata": {},
     "output_type": "execute_result"
    }
   ],
   "source": [
    "# Resolviendo las incognitas \n",
    "x = sp.Symbol('x')\n",
    "y = sp.Function('y')\n",
    "\n",
    "f = 2*x\n",
    "sp.Eq(y(x).diff(x),f)"
   ]
  },
  {
   "cell_type": "code",
   "execution_count": 3,
   "id": "f854bfca-53e7-4a96-a821-22c817f73957",
   "metadata": {},
   "outputs": [
    {
     "data": {
      "text/latex": [
       "$\\displaystyle y{\\left(x \\right)} = C_{1} + x^{2}$"
      ],
      "text/plain": [
       "Eq(y(x), C1 + x**2)"
      ]
     },
     "execution_count": 3,
     "metadata": {},
     "output_type": "execute_result"
    }
   ],
   "source": [
    "# Resolviendo la ecuación \n",
    "sp.dsolve(y(x).diff(x)-f)"
   ]
  },
  {
   "cell_type": "markdown",
   "id": "f59ec657-d1d5-4587-9c50-3afcf66518bb",
   "metadata": {},
   "source": [
    "## Con condicion inicial "
   ]
  },
  {
   "cell_type": "code",
   "execution_count": 4,
   "id": "d5f8fdfc-9791-45e7-a560-7f8a4a3c96ab",
   "metadata": {},
   "outputs": [
    {
     "data": {
      "text/latex": [
       "$\\displaystyle y{\\left(x \\right)} = \\frac{1.0}{\\tanh{\\left(C_{1} - \\frac{x}{2} \\right)}}$"
      ],
      "text/plain": [
       "Eq(y(x), 1.0/tanh(C1 - x/2))"
      ]
     },
     "execution_count": 4,
     "metadata": {},
     "output_type": "execute_result"
    }
   ],
   "source": [
    "# definiendo la ecuación\n",
    "eq = 1.0/2 * (y(x)**2 - 1)\n",
    "\n",
    "# Condición inicial\n",
    "ics = {y(0): 2}\n",
    "\n",
    "# Resolviendo la ecuación\n",
    "edo_sol = sp.dsolve(y(x).diff(x) - eq)\n",
    "edo_sol"
   ]
  },
  {
   "cell_type": "code",
   "execution_count": 5,
   "id": "2921184f-9d3d-4db1-a909-171aaf4bebb7",
   "metadata": {},
   "outputs": [
    {
     "data": {
      "text/latex": [
       "$\\displaystyle 2 = \\frac{1.0}{\\tanh{\\left(C_{1} \\right)}}$"
      ],
      "text/plain": [
       "Eq(2, 1.0/tanh(C1))"
      ]
     },
     "execution_count": 5,
     "metadata": {},
     "output_type": "execute_result"
    }
   ],
   "source": [
    "C_eq = sp.Eq(edo_sol.lhs.subs(x,0).subs(ics), edo_sol.rhs.subs(x,0))\n",
    "C_eq"
   ]
  },
  {
   "cell_type": "code",
   "execution_count": 6,
   "id": "f5a2ffa5-6dca-4bf3-8efb-f177a70c0b14",
   "metadata": {},
   "outputs": [
    {
     "data": {
      "text/plain": [
       "[0.549306144334055, 0.549306144334055 + 3.14159265358979*I]"
      ]
     },
     "execution_count": 6,
     "metadata": {},
     "output_type": "execute_result"
    }
   ],
   "source": [
    "sp.solve(C_eq)"
   ]
  },
  {
   "cell_type": "markdown",
   "id": "36ead602-a3b3-4dca-b0dc-3e1d4ae68fb5",
   "metadata": {},
   "source": [
    "## Serie de potencias"
   ]
  },
  {
   "cell_type": "code",
   "execution_count": 7,
   "id": "ea141864-2204-47a3-84b5-b9a4d54ef5d8",
   "metadata": {},
   "outputs": [
    {
     "data": {
      "text/latex": [
       "$\\displaystyle y{\\left(x \\right)} = - \\frac{1}{C_{1} + x}$"
      ],
      "text/plain": [
       "Eq(y(x), -1/(C1 + x))"
      ]
     },
     "execution_count": 7,
     "metadata": {},
     "output_type": "execute_result"
    }
   ],
   "source": [
    "# Solución con serie de potencias\n",
    "f = y(x)**2\n",
    "sp.dsolve(y(x).diff(x) - f)"
   ]
  },
  {
   "cell_type": "markdown",
   "id": "47d8d183-110e-428b-bd4f-487af76e8290",
   "metadata": {},
   "source": [
    "## Campos de direcciones\n",
    "Funcion que dibuja el campo de dirección de una EDO"
   ]
  },
  {
   "cell_type": "code",
   "execution_count": 8,
   "id": "cd42ac4e-a285-43bd-be99-63f0887f60f0",
   "metadata": {},
   "outputs": [],
   "source": [
    "def campo_de_direccion(x,y_x,f_xy, x_lim=(-5,5), y_lim=(-5,5), ax = None):\n",
    "    f_np = sp.lambdify((x, y_x), f_xy, modules=\"numpy\")\n",
    "    x_vec = np.linspace(x_lim[0],x_lim[1],20)\n",
    "    y_vec = np.linspace(y_lim[0],y_lim[1],20)\n",
    "    \n",
    "    if ax is None:\n",
    "        ax = plt.subplots(figsize=(4,4))\n",
    "    dx = x_vec[1] - x_vec[0]\n",
    "    dy = y_vec[1] - y_vec[0]\n",
    "    \n",
    "    for m, xx in enumerate(x_vec):\n",
    "        for n, yy in enumerate(y_vec):\n",
    "            Dy = f_np(xx,yy)*dx\n",
    "            Dx = 0.8 * dx**2 / np.sqrt(dx**2 + Dy**2)\n",
    "            Dy = 0.8 * Dy*dy / np.sqrt(dx**2 + Dy**2)\n",
    "            ax.plot([xx - Dx/2, xx + Dx/2],\n",
    "                   [yy - Dy/2, yy + Dy/2], 'b', lw=0.5)\n",
    "    \n",
    "    ax.axis('tight')\n",
    "    ax.set_title(r\"$%s$\" %\n",
    "                 (sp.latex(sp.Eq(y(x).diff(x), f_xy))),\n",
    "                 fontsize=18)\n",
    "    \n",
    "    return ax\n",
    "    "
   ]
  },
  {
   "cell_type": "code",
   "execution_count": 9,
   "id": "8a4ee52d-84cb-4536-9a1a-97ff17d4a12f",
   "metadata": {},
   "outputs": [
    {
     "data": {
      "image/png": "[encoded data removed]",
      "text/plain": [
       "<Figure size 576x432 with 1 Axes>"
      ]
     },
     "metadata": {
      "needs_background": "light"
     },
     "output_type": "display_data"
    }
   ],
   "source": [
    "\n",
    "# Defino incognitas\n",
    "x = sp.symbols('x')\n",
    "y = sp.Function('y')\n",
    "\n",
    "# Defino la función\n",
    "f = y(x)**2 + x**2 -1\n",
    "\n",
    "# grafico de campo de dirección\n",
    "fig, axes = plt.subplots(1, 1, figsize=(8, 6))\n",
    "campo_dir = campo_de_direccion(x, y(x), f, ax=axes)"
   ]
  },
  {
   "cell_type": "markdown",
   "id": "4cb8ef68-971a-4a3c-976d-082b40f21567",
   "metadata": {},
   "source": [
    "## Transformada de Laplace"
   ]
  },
  {
   "cell_type": "code",
   "execution_count": 10,
   "id": "6779bacd-7864-4b3d-be38-e327d474d5ea",
   "metadata": {},
   "outputs": [],
   "source": [
    "t = sp.symbols(\"t\", positive=True)\n",
    "y = sp.Function(\"y\")\n",
    "\n"
   ]
  },
  {
   "cell_type": "code",
   "execution_count": 11,
   "id": "e235b320-105a-453d-9461-2259e3b77d7c",
   "metadata": {},
   "outputs": [
    {
     "data": {
      "text/latex": [
       "$\\displaystyle 2 y{\\left(t \\right)} + 3 \\frac{d}{d t} y{\\left(t \\right)} + \\frac{d^{2}}{d t^{2}} y{\\left(t \\right)} = 0$"
      ],
      "text/plain": [
       "Eq(2*y(t) + 3*Derivative(y(t), t) + Derivative(y(t), (t, 2)), 0)"
      ]
     },
     "execution_count": 11,
     "metadata": {},
     "output_type": "execute_result"
    }
   ],
   "source": [
    "a0 = 3\n",
    "k = 0\n",
    "edo = y(t).diff(t,t) + a0*y(t).diff(t) + 2*y(t)\n",
    "sp.Eq(edo, k)"
   ]
  },
  {
   "cell_type": "code",
   "execution_count": 12,
   "id": "30915809-855d-489b-81f6-15b8173b226a",
   "metadata": {},
   "outputs": [],
   "source": [
    "s, Y = sp.symbols(\"s, Y\", real=True)"
   ]
  },
  {
   "cell_type": "code",
   "execution_count": 13,
   "id": "7e023fc4-e87b-4c6a-ac23-1928dff15060",
   "metadata": {},
   "outputs": [
    {
     "data": {
      "text/latex": [
       "$\\displaystyle 2 \\mathcal{L}_{t}\\left[y{\\left(t \\right)}\\right]\\left(s\\right) + 3 \\mathcal{L}_{t}\\left[\\frac{d}{d t} y{\\left(t \\right)}\\right]\\left(s\\right) + \\mathcal{L}_{t}\\left[\\frac{d^{2}}{d t^{2}} y{\\left(t \\right)}\\right]\\left(s\\right) = 0$"
      ],
      "text/plain": [
       "Eq(2*LaplaceTransform(y(t), t, s) + 3*LaplaceTransform(Derivative(y(t), t), t, s) + LaplaceTransform(Derivative(y(t), (t, 2)), t, s), 0)"
      ]
     },
     "execution_count": 13,
     "metadata": {},
     "output_type": "execute_result"
    }
   ],
   "source": [
    "L_edo = sp.laplace_transform(edo, t, s, noconds=True)\n",
    "sp.Eq(L_edo,0)"
   ]
  },
  {
   "cell_type": "markdown",
   "id": "b8878e98-cf47-4d8c-9c6f-1e7f543c5beb",
   "metadata": {},
   "source": [
    "Ya que python nos devuelve un termino con la forma rara por lo que para resolver este inconveniente debemos crear una funcion que nos ayude a mostrarla de manera algebraica "
   ]
  },
  {
   "cell_type": "code",
   "execution_count": 20,
   "id": "45b2b6f6-560d-49f1-a100-dc666b559c3a",
   "metadata": {},
   "outputs": [],
   "source": [
    "def laplace_transform_derivatives(e):\n",
    "    \"\"\"\n",
    "    Evalua las transformadas de Laplace de derivadas de funciones sin evaluar.\n",
    "    \"\"\"\n",
    "    if isinstance(e, sp.LaplaceTransform):\n",
    "        if isinstance(e.args[0], sp.Derivative):\n",
    "            d, t, s = e.args \n",
    "            n = len(d.args) - 1\n",
    "            return ((s**n) * sp.LaplaceTransform(d.args[0], t, s) -\n",
    "                    sum([s**(n-i) * sp.diff(d.args[0], t, i-1).subs(t, 0)\n",
    "                         for i in range(1, n+1)]))\n",
    "        \n",
    "    if isinstance(e, (sp.Add, sp.Mul)):\n",
    "        t = type(e) \n",
    "        return t(*[laplace_transform_derivatives(arg) for arg in e.args])\n",
    "    \n",
    "    return e"
   ]
  },
  {
   "cell_type": "markdown",
   "id": "0e33f4fd-7fa4-4251-8993-8890ab615a03",
   "metadata": {},
   "source": [
    "Aplicamos la nueva funcion para evaluar las transformadas de Laplace de derivadas"
   ]
  },
  {
   "cell_type": "code",
   "execution_count": 22,
   "id": "ec00d723-e2f4-4e5d-818e-488539c99636",
   "metadata": {},
   "outputs": [
    {
     "data": {
      "text/latex": [
       "$\\displaystyle 4 s \\mathcal{L}_{t}\\left[y{\\left(t \\right)}\\right]\\left(s\\right) + 2 \\mathcal{L}_{t}\\left[y{\\left(t \\right)}\\right]\\left(s\\right) - 4 y{\\left(0 \\right)} = 0$"
      ],
      "text/plain": [
       "Eq(4*s*LaplaceTransform(y(t), t, s) + 2*LaplaceTransform(y(t), t, s) - 4*y(0), 0)"
      ]
     },
     "execution_count": 22,
     "metadata": {},
     "output_type": "execute_result"
    }
   ],
   "source": [
    "L_edo_2 = laplace_transform_derivatives(L_edo)\n",
    "sp.Eq(L_edo_2,0)"
   ]
  },
  {
   "cell_type": "markdown",
   "id": "1f6b0b2e-4a80-471a-aed7-8515c5e9057d",
   "metadata": {},
   "source": [
    "Reemplazamos la transformada de Laplace de y(t) por la incognita y para facilitar la lectura de la ecuación "
   ]
  },
  {
   "cell_type": "code",
   "execution_count": 32,
   "id": "b4c12436-d32c-4daf-8272-fb6f1e006be6",
   "metadata": {},
   "outputs": [
    {
     "data": {
      "text/latex": [
       "$\\displaystyle 4 Y s + 2 Y - 4 y{\\left(0 \\right)} = 0$"
      ],
      "text/plain": [
       "Eq(4*Y*s + 2*Y - 4*y(0), 0)"
      ]
     },
     "execution_count": 32,
     "metadata": {},
     "output_type": "execute_result"
    }
   ],
   "source": [
    "L_edo_3 = L_edo_2.subs(sp.laplace_transform(y(t),t,s),Y)\n",
    "sp.Eq(L_edo_3)"
   ]
  },
  {
   "cell_type": "markdown",
   "id": "2586c25c-4fd0-42bc-9afa-20718e213f79",
   "metadata": {},
   "source": [
    "Definimos las condiciones iniciales"
   ]
  },
  {
   "cell_type": "code",
   "execution_count": 33,
   "id": "6a45a9b5-e71e-4264-9764-028f20d4a1d3",
   "metadata": {},
   "outputs": [
    {
     "data": {
      "text/plain": [
       "{y(0): 2, Subs(Derivative(y(t), t), t, 0): -3}"
      ]
     },
     "execution_count": 33,
     "metadata": {},
     "output_type": "execute_result"
    }
   ],
   "source": [
    "ics = {y(0) : 2, y(t).diff(t).subs(t,0) : -3}\n",
    "ics"
   ]
  },
  {
   "cell_type": "code",
   "execution_count": 34,
   "id": "9d14278d-350f-426c-982e-be6eb22cbb62",
   "metadata": {},
   "outputs": [
    {
     "data": {
      "text/latex": [
       "$\\displaystyle 4 Y s + 2 Y - 8$"
      ],
      "text/plain": [
       "4*Y*s + 2*Y - 8"
      ]
     },
     "execution_count": 34,
     "metadata": {},
     "output_type": "execute_result"
    }
   ],
   "source": [
    "L_edo_4 = L_edo_3.subs(ics)\n",
    "L_edo_4"
   ]
  },
  {
   "cell_type": "code",
   "execution_count": 35,
   "id": "aee5c911-f2d7-4a46-881b-6946acdeecfe",
   "metadata": {},
   "outputs": [
    {
     "data": {
      "text/plain": [
       "[4/(2*s + 1)]"
      ]
     },
     "execution_count": 35,
     "metadata": {},
     "output_type": "execute_result"
    }
   ],
   "source": [
    "Y_sol = sp.solve(L_edo_4, Y)\n",
    "Y_sol"
   ]
  },
  {
   "cell_type": "code",
   "execution_count": 36,
   "id": "b61ab05a-927d-4cb6-aec5-c17ba6c0c06e",
   "metadata": {},
   "outputs": [
    {
     "data": {
      "text/latex": [
       "$\\displaystyle 2 e^{- \\frac{t}{2}}$"
      ],
      "text/plain": [
       "2*exp(-t/2)"
      ]
     },
     "execution_count": 36,
     "metadata": {},
     "output_type": "execute_result"
    }
   ],
   "source": [
    "y_sol = sp.inverse_laplace_transform(Y_sol[0], s, t)\n",
    "y_sol"
   ]
  },
  {
   "cell_type": "code",
   "execution_count": 37,
   "id": "64611f11-777a-4e92-a86e-ad34338f1a2e",
   "metadata": {},
   "outputs": [
    {
     "data": {
      "text/plain": [
       "(2, -1)"
      ]
     },
     "execution_count": 37,
     "metadata": {},
     "output_type": "execute_result"
    }
   ],
   "source": [
    "y_sol.subs(t, 0), sp.diff(y_sol).subs(t, 0) # Revisar"
   ]
  }
 ],
 "metadata": {
  "kernelspec": {
   "display_name": "Python 3 (ipykernel)",
   "language": "python",
   "name": "python3"
  },
  "language_info": {
   "codemirror_mode": {
    "name": "ipython",
    "version": 3
   },
   "file_extension": ".py",
   "mimetype": "text/x-python",
   "name": "python",
   "nbconvert_exporter": "python",
   "pygments_lexer": "ipython3",
   "version": "3.9.7"
  }
 },
 "nbformat": 4,
 "nbformat_minor": 5
}
